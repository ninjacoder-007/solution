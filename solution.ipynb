{
 "cells": [
  {
   "cell_type": "code",
   "execution_count": 7,
   "id": "a48bbbfd",
   "metadata": {},
   "outputs": [
    {
     "name": "stdout",
     "output_type": "stream",
     "text": [
      "Text Replaced Successfully\n"
     ]
    }
   ],
   "source": [
    "from pathlib2 import Path\n",
    "\n",
    "\n",
    "def textreplace(search_text, replace_text):\n",
    "    file = Path(r\"example.txt\")\n",
    "    data = file.read_text()\n",
    "    data = data.replace(search_text, replace_text)\n",
    "    file.write_text(data)\n",
    "    return \"Text Replaced Successfully\"\n",
    "\n",
    "\n",
    "search_text = \"placement\"\n",
    "replace_text = \"screening\"\n",
    "print(textreplace(search_text, replace_text))"
   ]
  },
  {
   "cell_type": "code",
   "execution_count": 8,
   "id": "342e5c0e",
   "metadata": {},
   "outputs": [
    {
     "name": "stdout",
     "output_type": "stream",
     "text": [
      "Car: I have 4 Wheels\n",
      "Cycle: I have 2 wheels\n",
      "Bike: I have 2 wheels\n",
      "Rikshaw: I have 3 wheels\n",
      "Truck: I have 10 wheels\n"
     ]
    }
   ],
   "source": [
    "#use of abstract class\n",
    "\n",
    "#abstract classes are used when we have to provide common interface to different applications. It is the kind of the blueprint of the classes.\n",
    "\n",
    "from abc import ABC, abstractmethod\n",
    "\n",
    "class Vehicles(ABC):\n",
    "    @abstractmethod\n",
    "    def totalwheels(self):\n",
    "        pass\n",
    "    \n",
    "class Car(Vehicles):\n",
    "    def totalwheels(self):\n",
    "        print(\"Car: I have 4 Wheels\")\n",
    "        \n",
    "class Cycle(Vehicles):\n",
    "    def totalwheels(self):\n",
    "        print(\"Cycle: I have 2 wheels\")\n",
    "        \n",
    "class Bike(Vehicles):\n",
    "    def totalwheels(self):\n",
    "        print(\"Bike: I have 2 wheels\")\n",
    "        \n",
    "class Rikshaw(Vehicles):\n",
    "    def totalwheels(self):\n",
    "        print(\"Rikshaw: I have 3 wheels\")\n",
    "        \n",
    "class Truck(Vehicles):\n",
    "    def totalwheels(self):\n",
    "        print(\"Truck: I have 10 wheels\")\n",
    "        \n",
    "obj1 = Car()\n",
    "obj1.totalwheels()\n",
    "\n",
    "obj2 = Cycle()\n",
    "obj2.totalwheels()\n",
    "\n",
    "obj3 = Bike()\n",
    "obj3.totalwheels()\n",
    "\n",
    "obj4 = Rikshaw()\n",
    "obj4.totalwheels()\n",
    "\n",
    "obj5 = Truck()\n",
    "obj5.totalwheels()"
   ]
  },
  {
   "cell_type": "code",
   "execution_count": 10,
   "id": "8706a332",
   "metadata": {},
   "outputs": [
    {
     "name": "stdout",
     "output_type": "stream",
     "text": [
      "In class parent1\n",
      "In class parent2\n"
     ]
    }
   ],
   "source": [
    "#use of multiple inheritance\n",
    "\n",
    "\n",
    "\n",
    "#we use multiple inheritance to access the properties of one class into another class. It is the concept of OOP's programming\n",
    "#It reduces the time and space complexity.\n",
    "\n",
    "class Parent1:\n",
    "    def display1(self):\n",
    "        print(\"In class parent1\")\n",
    "        \n",
    "class Parent2:\n",
    "    def display2(self):\n",
    "        print(\"In class parent2\")\n",
    "        \n",
    "class Child(Parent1, Parent2):\n",
    "    pass\n",
    "\n",
    "\n",
    "obj = Child()\n",
    "obj.display1()\n",
    "obj.display2()\n"
   ]
  },
  {
   "cell_type": "code",
   "execution_count": 11,
   "id": "706cb1df",
   "metadata": {},
   "outputs": [
    {
     "name": "stdout",
     "output_type": "stream",
     "text": [
      "Decorator Function\n",
      "Main Function\n",
      "We are riders\n"
     ]
    }
   ],
   "source": [
    "#use of decorater in python\n",
    "\n",
    "#we use the decoraters to change the behaviour of function or class. We can use them to wrap the functionality of another function.\n",
    "\n",
    "\n",
    "def my_decorfunc(func):\n",
    "    def my_wrap(str1, str2):\n",
    "        print(\"Decorator Function\")\n",
    "        return func(str1,str2)\n",
    "    \n",
    "    return my_wrap\n",
    "\n",
    "\n",
    "def my_function(str1, str2):\n",
    "    print(\"Main Function\")\n",
    "    print(str1 + \" are \" + str2)\n",
    "    \n",
    "my_function = my_decorfunc(my_function)\n",
    "my_function (\"We\", \"riders\")\n",
    "        "
   ]
  },
  {
   "cell_type": "code",
   "execution_count": null,
   "id": "e47ffe9f",
   "metadata": {},
   "outputs": [],
   "source": []
  }
 ],
 "metadata": {
  "kernelspec": {
   "display_name": "Python 3 (ipykernel)",
   "language": "python",
   "name": "python3"
  },
  "language_info": {
   "codemirror_mode": {
    "name": "ipython",
    "version": 3
   },
   "file_extension": ".py",
   "mimetype": "text/x-python",
   "name": "python",
   "nbconvert_exporter": "python",
   "pygments_lexer": "ipython3",
   "version": "3.9.7"
  }
 },
 "nbformat": 4,
 "nbformat_minor": 5
}
